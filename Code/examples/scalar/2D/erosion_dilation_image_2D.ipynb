{
  "cells": [
    {
      "cell_type": "markdown",
      "metadata": {
        "id": "IlxGNwueYW2T"
      },
      "source": [
        "This notebook goes through how to create a **point cloud** from a **greyscale image** and apply **dilation** or **erosion** morphology operations to it."
      ]
    },
    {
      "cell_type": "markdown",
      "metadata": {
        "id": "CWM1egFwQhDE"
      },
      "source": [
        "# IMPORTS"
      ]
    },
    {
      "cell_type": "code",
      "execution_count": 1,
      "metadata": {
        "id": "07wjyYEjPF8J"
      },
      "outputs": [],
      "source": [
        "import os\n",
        "\n",
        "import numpy as np\n",
        "import matplotlib.pyplot as plt\n",
        "from PIL import Image\n",
        "from pathlib import Path\n",
        "\n",
        "from spomso.cores.helper_functions import generate_grid, smarter_reshape\n",
        "from spomso.cores.post_processing import hard_binarization\n",
        "from spomso.cores.geom_2d import PointCloud2D\n",
        "from spomso.cores.geom import Points, GenericGeometry\n",
        "from spomso.cores.combine import CombineGeometry"
      ]
    },
    {
      "cell_type": "markdown",
      "metadata": {
        "id": "m69eJ3FWx90T"
      },
      "source": [
        "# FUNCTIONS"
      ]
    },
    {
      "cell_type": "code",
      "execution_count": 2,
      "metadata": {
        "id": "M6vV-tDjyAtL"
      },
      "outputs": [],
      "source": [
        "def alpha_greyscale_combine(image_):\n",
        "    image_ = np.asarray(image_)\n",
        "    print(image_.shape)\n",
        "\n",
        "    image_ = image_/255.0\n",
        "    out = 1-image_[:, :, 1]\n",
        "\n",
        "    out = np.maximum(out, image_[:,:,0])\n",
        "    return out"
      ]
    },
    {
      "cell_type": "markdown",
      "metadata": {
        "id": "1ZWxXsAiQoaM"
      },
      "source": [
        "# PARAMETERS"
      ]
    },
    {
      "cell_type": "code",
      "execution_count": 3,
      "metadata": {
        "id": "4viZLfMcQrWw"
      },
      "outputs": [],
      "source": [
        "# size of the volume\n",
        "co_size = 4, 3\n",
        "# resolution of the volume\n",
        "co_resolution = 800, 400\n",
        "\n",
        "show = \"BINARY\" # BINARY, FIELD\n",
        "show_midplane = True\n",
        "\n"
      ]
    },
    {
      "cell_type": "markdown",
      "metadata": {
        "id": "ic8FRlxoQuua"
      },
      "source": [
        "# COORDINATE SYSTEM"
      ]
    },
    {
      "cell_type": "markdown",
      "metadata": {
        "id": "9SAAXk2zZ9l1"
      },
      "source": [
        "Point cloud of coordinates is created with the **generate_grid** function, which takes the size of the coordinate system and the number of points in each direction (**co_resolution**)."
      ]
    },
    {
      "cell_type": "code",
      "execution_count": 4,
      "metadata": {
        "id": "4x_X-ukyQtsK"
      },
      "outputs": [],
      "source": [
        "coor, co_res_new = generate_grid(co_size, co_resolution)"
      ]
    },
    {
      "cell_type": "markdown",
      "metadata": {
        "id": "tNcPDTxAaaCR"
      },
      "source": [
        "If there is an even number of points along any direction the function will automatically convert it to an odd number, therefore the origin is always included in the point cloud. The point cloud is a **numpy.ndarray** with a shape of **(D, N)**, where **D** is the number of dimensions and **N** is the number of data points."
      ]
    },
    {
      "cell_type": "markdown",
      "metadata": {
        "id": "TAypNyp1QzXK"
      },
      "source": [
        "# CREATE SDFs"
      ]
    },
    {
      "cell_type": "markdown",
      "metadata": {
        "id": "gAIo-5WZyYuJ"
      },
      "source": [
        "Set the morphology operation: **ERODE** or **DILATE**"
      ]
    },
    {
      "cell_type": "code",
      "execution_count": 5,
      "metadata": {
        "id": "1JVHMz9Fye9-"
      },
      "outputs": [],
      "source": [
        "morphology = \"DILATE\""
      ]
    },
    {
      "cell_type": "markdown",
      "metadata": {
        "id": "8IZTroAaRzsk"
      },
      "source": [
        "Import an **image** from a directory and convert the **image** to **greyscale**:"
      ]
    },
    {
      "cell_type": "code",
      "execution_count": 6,
      "metadata": {
        "id": "ep-6FafnRpYS"
      },
      "outputs": [],
      "source": [
        "image_file_name = \"dilation_erosion.png\"\n",
        "spomso_dir = Path(os.getcwd()).resolve().parents[3]\n",
        "image_path = os.path.join(spomso_dir, \"Files\", \"test_images\", image_file_name)"
      ]
    },
    {
      "cell_type": "markdown",
      "metadata": {
        "id": "uOQviB0tylbP"
      },
      "source": [
        "If an image contains an **alpha** channel it must be converted as such:"
      ]
    },
    {
      "cell_type": "code",
      "execution_count": 7,
      "metadata": {
        "id": "1D5h7wKiGQkq"
      },
      "outputs": [],
      "source": [
        "image = Image.open(image_path).convert(\"LA\")"
      ]
    },
    {
      "cell_type": "markdown",
      "metadata": {
        "id": "TG7p5gycy0M9"
      },
      "source": [
        "Combine greyscale and **alpha** channels:"
      ]
    },
    {
      "cell_type": "code",
      "execution_count": 8,
      "metadata": {
        "id": "G0MnXNDhy5UF"
      },
      "outputs": [
        {
          "name": "stdout",
          "output_type": "stream",
          "text": [
            "(1181, 2362, 2)\n"
          ]
        }
      ],
      "source": [
        "image = alpha_greyscale_combine(image)"
      ]
    },
    {
      "cell_type": "markdown",
      "metadata": {
        "id": "QTMg3jjUypcP"
      },
      "source": [
        "If there is no **alpha** channel:"
      ]
    },
    {
      "cell_type": "code",
      "execution_count": 33,
      "metadata": {
        "id": "EByQebs-yrhr"
      },
      "outputs": [],
      "source": [
        "image = Image.open(image_path).convert(\"L\")"
      ]
    },
    {
      "cell_type": "markdown",
      "metadata": {
        "id": "db146iBeGRdo"
      },
      "source": [
        "Display the **greyscale image**:"
      ]
    },
    {
      "cell_type": "code",
      "execution_count": 9,
      "metadata": {
        "id": "tn291CzvGRzG"
      },
      "outputs": [
        {
          "data": {
            "image/png": "[encoded data removed]",
            "text/plain": [
              "<Figure size 640x480 with 1 Axes>"
            ]
          },
          "metadata": {},
          "output_type": "display_data"
        }
      ],
      "source": [
        "plt.imshow(image, cmap=\"binary_r\")\n",
        "plt.show()"
      ]
    },
    {
      "cell_type": "markdown",
      "metadata": {
        "id": "-R0Wgd02GT7I"
      },
      "source": [
        "Create a **point cloud** object:"
      ]
    },
    {
      "cell_type": "code",
      "execution_count": 10,
      "metadata": {
        "id": "d3TUu3kpGUR0"
      },
      "outputs": [],
      "source": [
        "points = Points([])"
      ]
    },
    {
      "cell_type": "markdown",
      "metadata": {
        "id": "1aYtxHU5GVF1"
      },
      "source": [
        "Extract the **point cloud** from the greyscale **image** [first parameter]:"
      ]
    },
    {
      "cell_type": "code",
      "execution_count": 11,
      "metadata": {
        "id": "nsyfX-QzGVXP"
      },
      "outputs": [],
      "source": [
        "points.from_image(image, (3, 1.5), binary_threshold=0.5)\n",
        "cloud = points.cloud"
      ]
    },
    {
      "cell_type": "markdown",
      "metadata": {
        "id": "MDMx13VNG5Qv"
      },
      "source": [
        "\n",
        "All the pixels in the image with a brightness value below the **binary threshold** [third parameter] are included in the **point cloud** and their positions are calculated from the specified **image size** [second parameter]."
      ]
    },
    {
      "cell_type": "markdown",
      "metadata": {
        "id": "Mk2H3MAeG9uv"
      },
      "source": [
        "Create an **SDF** from the **point cloud**:"
      ]
    },
    {
      "cell_type": "code",
      "execution_count": 12,
      "metadata": {
        "id": "b_tWvr42G84y"
      },
      "outputs": [],
      "source": [
        "point_cloud = PointCloud2D(cloud)"
      ]
    },
    {
      "cell_type": "markdown",
      "metadata": {
        "id": "5j6m5thgzbQM"
      },
      "source": [
        "**Dilate** the **point cloud SDF** for **0.01**:"
      ]
    },
    {
      "cell_type": "code",
      "execution_count": 13,
      "metadata": {
        "id": "ur-xWOiRzg9X"
      },
      "outputs": [],
      "source": [
        "if morphology==\"DILATE\":\n",
        "    point_cloud.rounding(0.01)"
      ]
    },
    {
      "cell_type": "markdown",
      "metadata": {
        "id": "kTy3-_tMzhSh"
      },
      "source": [
        "**Erode** the **point cloud SDF** for **0.01**:"
      ]
    },
    {
      "cell_type": "code",
      "execution_count": 39,
      "metadata": {
        "id": "thCfbSHgznad"
      },
      "outputs": [],
      "source": [
        "if morphology==\"ERODE\":\n",
        "    point_cloud.rounding(-0.01)"
      ]
    },
    {
      "cell_type": "markdown",
      "metadata": {
        "id": "ZTNofY7JztZL"
      },
      "source": [
        "Create a new **geometry** out of the **modified SDF**:"
      ]
    },
    {
      "cell_type": "code",
      "execution_count": 14,
      "metadata": {
        "id": "uVPYRuNszy6v"
      },
      "outputs": [],
      "source": [
        "point_cloud_2 = GenericGeometry(point_cloud.propagate, ())"
      ]
    },
    {
      "cell_type": "markdown",
      "metadata": {
        "id": "wVcBm3mwz6Fb"
      },
      "source": [
        "Further **dilate** the features:"
      ]
    },
    {
      "cell_type": "code",
      "execution_count": 15,
      "metadata": {
        "id": "TxWSy-7Sz8wz"
      },
      "outputs": [
        {
          "data": {
            "text/plain": [
              "<function spomso.cores.modifications.ModifyObject.rounding.<locals>.new_geo_object(co, *params)>"
            ]
          },
          "execution_count": 15,
          "metadata": {},
          "output_type": "execute_result"
        }
      ],
      "source": [
        "point_cloud_2.rounding(0.2)"
      ]
    },
    {
      "cell_type": "markdown",
      "metadata": {
        "id": "W0KvsdTMz-CF"
      },
      "source": [
        "Convert it into a **line** with a **thickness** of **0.02**:"
      ]
    },
    {
      "cell_type": "code",
      "execution_count": 16,
      "metadata": {
        "id": "fSieFY4E0AnT"
      },
      "outputs": [
        {
          "data": {
            "text/plain": [
              "<function spomso.cores.modifications.ModifyObject.onion.<locals>.new_geo_object(co, *params)>"
            ]
          },
          "execution_count": 16,
          "metadata": {},
          "output_type": "execute_result"
        }
      ],
      "source": [
        "point_cloud_2.onion(0.02)"
      ]
    },
    {
      "cell_type": "markdown",
      "metadata": {
        "id": "355LLAvi1ZrM"
      },
      "source": [
        "**Combine** both **point cloud SDFs**:"
      ]
    },
    {
      "cell_type": "code",
      "execution_count": 17,
      "metadata": {
        "id": "LZeWiQPP1ddh"
      },
      "outputs": [],
      "source": [
        "union = CombineGeometry(\"UNION2\")\n",
        "final = union.combine(point_cloud, point_cloud_2)"
      ]
    },
    {
      "cell_type": "markdown",
      "metadata": {
        "id": "5obORoPH1gpY"
      },
      "source": [
        "The **SDF** can be recast into a **point cloud** object (a set of points), which can be exported and used elsewhere:"
      ]
    },
    {
      "cell_type": "code",
      "execution_count": 18,
      "metadata": {
        "id": "ls8cUGzQ1lIG"
      },
      "outputs": [],
      "source": [
        "new_cloud = final.point_cloud(coor)"
      ]
    },
    {
      "cell_type": "markdown",
      "metadata": {
        "id": "kDAdxlzn1lmD"
      },
      "source": [
        "The **point cloud** can be converted back into an **SDF**:"
      ]
    },
    {
      "cell_type": "code",
      "execution_count": 19,
      "metadata": {
        "id": "8y8_XFUz148y"
      },
      "outputs": [],
      "source": [
        "final = PointCloud2D(new_cloud)"
      ]
    },
    {
      "cell_type": "markdown",
      "metadata": {
        "id": "wHAerhdEVdPC"
      },
      "source": [
        "## EVALUATE"
      ]
    },
    {
      "cell_type": "markdown",
      "metadata": {
        "id": "GUqPQUs8VkEu"
      },
      "source": [
        "Evaluate the SDF of the **geometry** to create a signed distance field 2D map. This is done by calling the **create** method and passing in the point cloud of coordinates:"
      ]
    },
    {
      "cell_type": "code",
      "execution_count": 20,
      "metadata": {
        "id": "3WABLIwoVihY"
      },
      "outputs": [],
      "source": [
        "final_pattern = final.create(coor)"
      ]
    },
    {
      "cell_type": "markdown",
      "metadata": {
        "id": "j23Up7wjQ7Pk"
      },
      "source": [
        "# BINARIZATION"
      ]
    },
    {
      "cell_type": "markdown",
      "metadata": {
        "id": "xIZvaGEJROhA"
      },
      "source": [
        "Convert the distance field to a binary voxel map, where 1 corresponds to the interior and 0 to the exterior of the geometry."
      ]
    },
    {
      "cell_type": "code",
      "execution_count": 21,
      "metadata": {
        "id": "202DGVqURPDX"
      },
      "outputs": [],
      "source": [
        "if show_midplane:\n",
        "    field = smarter_reshape(final_pattern, co_resolution)\n",
        "    if show==\"BINARY\":\n",
        "        pattern_2d = hard_binarization(field, 0)"
      ]
    },
    {
      "cell_type": "markdown",
      "metadata": {
        "id": "Y-m9hiu4Q7bg"
      },
      "source": [
        "# PLOT"
      ]
    },
    {
      "cell_type": "code",
      "execution_count": 22,
      "metadata": {
        "id": "GpEiiSzbQ2gq"
      },
      "outputs": [
        {
          "name": "stdout",
          "output_type": "stream",
          "text": [
            "Drawing results...\n"
          ]
        },
        {
          "data": {
            "image/png": "[encoded data removed]",
            "text/plain": [
              "<Figure size 825x825 with 1 Axes>"
            ]
          },
          "metadata": {},
          "output_type": "display_data"
        }
      ],
      "source": [
        "print(\"Drawing results...\")\n",
        "# Mid-plane cross-section plot\n",
        "if show_midplane and show==\"BINARY\":\n",
        "    fig, ax = plt.subplots(1,1, figsize=(8.25, 8.25))\n",
        "    ax.imshow(pattern_2d[:, :].T,\n",
        "              cmap=\"binary_r\",\n",
        "              extent=(-co_size[0]/2, co_size[0]/2,\n",
        "                      -co_size[1]/2, co_size[1]/2),\n",
        "              origin=\"lower\"\n",
        "              )\n",
        "    ax.grid()\n",
        "\n",
        "    fig.tight_layout()\n",
        "    plt.show()\n",
        "\n",
        "if show_midplane and show == \"FIELD\":\n",
        "    fig, ax = plt.subplots(1, 1, figsize=(8.25, 8.25))\n",
        "    print(field.shape)\n",
        "    ax.imshow(field[:, :].T,\n",
        "              cmap=\"binary_r\",\n",
        "              extent=(-co_size[0] / 2, co_size[0] / 2,\n",
        "                      -co_size[1] / 2, co_size[1] / 2),\n",
        "              origin=\"lower\"\n",
        "              )\n",
        "    cs = ax.contour(coor[0].reshape(co_res_new[0], co_res_new[1]),\n",
        "                    coor[1].reshape(co_res_new[0], co_res_new[1]),\n",
        "                    field[:, :],\n",
        "                    cmap=\"plasma_r\")\n",
        "    ax.clabel(cs, inline=True, fontsize=10)\n",
        "    ax.grid()"
      ]
    }
  ],
  "metadata": {
    "colab": {
      "collapsed_sections": [
        "CWM1egFwQhDE",
        "m69eJ3FWx90T",
        "ic8FRlxoQuua",
        "wHAerhdEVdPC",
        "j23Up7wjQ7Pk",
        "Y-m9hiu4Q7bg"
      ],
      "provenance": []
    },
    "kernelspec": {
      "display_name": "Python 3",
      "name": "python3"
    },
    "language_info": {
      "codemirror_mode": {
        "name": "ipython",
        "version": 3
      },
      "file_extension": ".py",
      "mimetype": "text/x-python",
      "name": "python",
      "nbconvert_exporter": "python",
      "pygments_lexer": "ipython3",
      "version": "3.10.1"
    }
  },
  "nbformat": 4,
  "nbformat_minor": 0
}
