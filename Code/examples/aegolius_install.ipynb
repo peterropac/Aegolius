{
  "cells": [
    {
      "cell_type": "markdown",
      "metadata": {},
      "source": [
        "# GitHub"
      ]
    },
    {
      "cell_type": "markdown",
      "metadata": {
        "id": "rtpMWdVd6O2J"
      },
      "source": [
        "Clone the repository to a directory"
      ]
    },
    {
      "cell_type": "code",
      "execution_count": null,
      "metadata": {
        "id": "i16-BTCzmu61"
      },
      "outputs": [],
      "source": [
        "!git clone https://github.com/peterropac/Aegolius.git"
      ]
    },
    {
      "cell_type": "markdown",
      "metadata": {
        "id": "SVDQo5Vk6VNf"
      },
      "source": [
        "To install the package in Google Colab or something similar use the following:"
      ]
    },
    {
      "cell_type": "code",
      "execution_count": null,
      "metadata": {
        "id": "wTtj8zhkm-e4"
      },
      "outputs": [],
      "source": [
        "%pip install Aegolius/Code/spomso"
      ]
    },
    {
      "cell_type": "markdown",
      "metadata": {
        "id": "34QjB0KK6kFX"
      },
      "source": [
        "To install locally open the terminal, navigate to the correct directory and install from there with PIP:"
      ]
    },
    {
      "cell_type": "code",
      "execution_count": null,
      "metadata": {
        "id": "QZ2DYrz36gp5"
      },
      "outputs": [],
      "source": [
        "cd Aegolius/Code/spomso\n",
        "pip install ."
      ]
    },
    {
      "cell_type": "markdown",
      "metadata": {
        "id": "Vb2Dotho7BCn"
      },
      "source": [
        "Test if the package was installed successfully:"
      ]
    },
    {
      "cell_type": "code",
      "execution_count": null,
      "metadata": {},
      "outputs": [],
      "source": [
        "import spomso"
      ]
    },
    {
      "cell_type": "markdown",
      "metadata": {},
      "source": [
        "# PIP "
      ]
    },
    {
      "cell_type": "code",
      "execution_count": null,
      "metadata": {},
      "outputs": [],
      "source": [
        "%pip install SPOMSO"
      ]
    },
    {
      "cell_type": "markdown",
      "metadata": {},
      "source": [
        "Test if the package was installed successfully:"
      ]
    },
    {
      "cell_type": "code",
      "execution_count": 4,
      "metadata": {
        "id": "VwML4ruCn993"
      },
      "outputs": [],
      "source": [
        "import spomso"
      ]
    }
  ],
  "metadata": {
    "colab": {
      "provenance": []
    },
    "kernelspec": {
      "display_name": "Python 3",
      "name": "python3"
    },
    "language_info": {
      "name": "python"
    }
  },
  "nbformat": 4,
  "nbformat_minor": 0
}
