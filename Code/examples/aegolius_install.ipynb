{
  "nbformat": 4,
  "nbformat_minor": 0,
  "metadata": {
    "colab": {
      "provenance": []
    },
    "kernelspec": {
      "name": "python3",
      "display_name": "Python 3"
    },
    "language_info": {
      "name": "python"
    }
  },
  "cells": [
    {
      "cell_type": "markdown",
      "source": [
        "Clone the repository to a directory"
      ],
      "metadata": {
        "id": "rtpMWdVd6O2J"
      }
    },
    {
      "cell_type": "code",
      "execution_count": null,
      "metadata": {
        "id": "i16-BTCzmu61"
      },
      "outputs": [],
      "source": [
        "!git clone https://github.com/peterropac/Aegolius.git"
      ]
    },
    {
      "cell_type": "markdown",
      "source": [
        "To install the package in Google Colab or something similar use the following:"
      ],
      "metadata": {
        "id": "SVDQo5Vk6VNf"
      }
    },
    {
      "cell_type": "code",
      "source": [
        "%pip install -e Aegolius/Code/spomso"
      ],
      "metadata": {
        "id": "wTtj8zhkm-e4"
      },
      "execution_count": null,
      "outputs": []
    },
    {
      "cell_type": "markdown",
      "source": [
        "To install locally open the terminal, navigate to the correct directory and install from there with PIP:"
      ],
      "metadata": {
        "id": "34QjB0KK6kFX"
      }
    },
    {
      "cell_type": "code",
      "source": [
        "cd Aegolius/Code/spomso\n",
        "pip install ."
      ],
      "metadata": {
        "id": "QZ2DYrz36gp5"
      },
      "execution_count": null,
      "outputs": []
    },
    {
      "cell_type": "markdown",
      "source": [
        "Test if the package was installed successfully:"
      ],
      "metadata": {
        "id": "Vb2Dotho7BCn"
      }
    },
    {
      "cell_type": "code",
      "source": [
        "import spomso"
      ],
      "metadata": {
        "id": "VwML4ruCn993"
      },
      "execution_count": 4,
      "outputs": []
    }
  ]
}